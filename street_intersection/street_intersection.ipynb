{
 "cells": [
  {
   "cell_type": "markdown",
   "metadata": {},
   "source": [
    "# This is a test environment to test functionality\n"
   ]
  },
  {
   "cell_type": "code",
   "execution_count": 4143,
   "metadata": {},
   "outputs": [
    {
     "name": "stdout",
     "output_type": "stream",
     "text": [
      "Test\n"
     ]
    }
   ],
   "source": [
    "import re\n",
    "print('Test')\n"
   ]
  },
  {
   "cell_type": "code",
   "execution_count": 4144,
   "metadata": {},
   "outputs": [],
   "source": [
    "class Point(object):\n",
    "    \"\"\"\n",
    "    A class for a point on the graph taken from Dr. Garfinkel's example py code\n",
    "    \"\"\"\n",
    "\n",
    "    def __init__(self, x, y):\n",
    "        self.x = float(x)\n",
    "        self.y = float(y)\n",
    "\n",
    "    def __str__(self):\n",
    "        return \"(\" + str(self.x) + \",\" + str(self.y) + \")\""
   ]
  },
  {
   "cell_type": "markdown",
   "metadata": {},
   "source": [
    "## Add Street Function"
   ]
  },
  {
   "cell_type": "code",
   "execution_count": 4145,
   "metadata": {},
   "outputs": [],
   "source": [
    "def _street_coordinate_array(coordinates):\n",
    "  '''\n",
    "  street_coordinate = ['string,string' ...]\n",
    "  returns an array of integer tuples\n",
    "  '''\n",
    "  #Create the list of strings from the coordinates using regex to only find all digits\n",
    "  street_coordinates = re.findall(r'\\-?\\d+,\\s?-?\\d+', coordinates)\n",
    "  street_coordinates_list = []\n",
    "\n",
    "  #Process of cleaning the string into coordinate tuples then pushing into an array\n",
    "  for coord in street_coordinates:\n",
    "    x, y = coord.split(',')\n",
    "    coord_point = Point(float(x), float(y))\n",
    "    street_coordinates_list.append(coord_point)\n",
    "  \n",
    "  return street_coordinates_list"
   ]
  },
  {
   "cell_type": "code",
   "execution_count": 4146,
   "metadata": {},
   "outputs": [],
   "source": [
    "\n",
    "#street database needs to be defined globally in the class\n",
    "street_db = {}\n",
    "line_db = {}\n",
    "vertex = []\n",
    "V = {}\n",
    "list_of_intersections = {}\n",
    "E = []\n",
    "\n",
    "def add_street(street_input): \n",
    "  '''\n",
    "  Takes in a street with the format 'add \"{street_name}\" (x1, y1) (x2, y2) (x_n, y_n)'\n",
    "  \n",
    "  Stores the added street into a dictionary and adds street points in a list of tuples\n",
    "\n",
    "  egs. \n",
    "  \n",
    "  dict = {\n",
    "    'street_name': [(x1, y1), (x2, y2), (x_n, y_n)]\n",
    "  }\n",
    "  '''\n",
    "  \n",
    "  # Use a regular expression to match the input format in description\n",
    "  add_pattern = r'^add \"([A-Za-z ]*[A-Za-z][A-Za-z ]*)\"((?: \\(\\s?-?\\d+,\\s?-?\\d+\\)){2,})$'\n",
    "  match = re.match(add_pattern, street_input)\n",
    "  # print(match.group(2))\n",
    "  #If the format is valid add the street to the dictionary\n",
    "  #Else return an error stating the format is wrong\n",
    "  if match:\n",
    "    #Extracting groups from the regex match\n",
    "    street_name = match.group(1).lower() #Make street_name lowered to handle case insensitivity\n",
    "    coordinates = match.group(2)\n",
    "    #Check if street_name is unique\n",
    "    if street_name in street_db:\n",
    "      print(f'fail {street_name} already exists in the database')\n",
    "      return None\n",
    "    \n",
    "    #Setting the street key to the array \n",
    "    street_db[street_name] = _street_coordinate_array(coordinates)\n",
    "    print(street_db)\n",
    "\n",
    "  else:\n",
    "    print('fail does not follow the correct input')\n",
    "\n"
   ]
  },
  {
   "cell_type": "code",
   "execution_count": 4147,
   "metadata": {},
   "outputs": [
    {
     "name": "stdout",
     "output_type": "stream",
     "text": [
      "{'weber street': [<__main__.Point object at 0x1086fe990>, <__main__.Point object at 0x108b62490>, <__main__.Point object at 0x108b3b690>, <__main__.Point object at 0x1086fc350>, <__main__.Point object at 0x1086fd910>]}\n"
     ]
    }
   ],
   "source": [
    "add_street('add \"Weber Street\" (2,-1) (2,2) (5,5) (5,6) (3,8)')\n",
    "# # add_street('add \"Weber Street\" (2,-1) (2,3)')\n",
    "# add_street('add \"King Street S\" (4,2) (4,8)')\n",
    "# add_street('add \" G \" (2,1) (-4,2)')\n",
    "# add_street('add \" g \" (2,1) (-4,2)')\n",
    "# add_street('add \"  \" (2,1) (-4,2)')\n",
    "# add_street('add \"Weber Street\" (2,-1) (2,2) (5,5) (5,6) (3,+8)')\n",
    "# add_street('addd add \"Weber Street\" (2,-1) (2,2) (5,5) (5,6) (3,8)')\n",
    "# add_street('add \"Sa,m Stree\" (1,2) (-3,4)')\n",
    "# add_street('add \"This Street\" (1,1) (2,2) (3,4)')\n"
   ]
  },
  {
   "cell_type": "code",
   "execution_count": 4148,
   "metadata": {},
   "outputs": [],
   "source": [
    "def remove_street(street_input):\n",
    "  '''\n",
    "  This function will be called when  an input in the form 'rm \"{street_input}\"'\n",
    "\n",
    "  The purpose of this function is to delete a street_name: coords key value pair from the database\n",
    "  '''\n",
    "  #Regex pattern for input validation\n",
    "  remove_pattern = r'^rm \"([A-Za-z ]*[A-Za-z][A-Za-z ]*)\"'\n",
    "  match = re.match(remove_pattern, street_input)\n",
    "\n",
    "  #If valid check if a street name exists in the database\n",
    "  if match:\n",
    "    street_name = match.group(1).lower()\n",
    "    if street_name not in street_db:\n",
    "      print(f'The street {street_name} you are trying to remove does not exist in the database')\n",
    "      return None\n",
    "    \n",
    "    del street_db[street_name]\n",
    "    \n",
    "  else: \n",
    "    print('Input Error')\n",
    "  "
   ]
  },
  {
   "cell_type": "code",
   "execution_count": 4149,
   "metadata": {},
   "outputs": [],
   "source": [
    "# remove_street('rm \"King Street S\"')\n",
    "# remove_street('rm \"King Street S\"')"
   ]
  },
  {
   "cell_type": "code",
   "execution_count": 4150,
   "metadata": {},
   "outputs": [],
   "source": [
    "def modify_street(street_input):\n",
    "    '''\n",
    "    This function will be called when the user inputs a line in the form 'mod \"{street_input}\" (2,1) (2,2) (x,y)'\n",
    "    '''\n",
    "    # Regex pattern for input validation\n",
    "    mod_pattern = r'^mod \"([A-Za-z ]*[A-Za-z][A-Za-z ]*)\"((?: \\(\\s?-?\\d+,\\s?-?\\d+\\)){2,})$'\n",
    "    \n",
    "    match = re.match(mod_pattern, street_input)\n",
    "\n",
    "    if match:\n",
    "        street_name = match.group(1).lower()\n",
    "        coordinates = match.group(2)\n",
    "        \n",
    "        if street_name not in street_db: \n",
    "            print('Error: You are trying to modify a street that does not exist')\n",
    "            return None\n",
    "\n",
    "        street_db[street_name] = _street_coordinate_array(coordinates)\n",
    "    else:\n",
    "        print('Error: Invalid input format for modification')\n",
    "        return None\n"
   ]
  },
  {
   "cell_type": "code",
   "execution_count": 4151,
   "metadata": {},
   "outputs": [],
   "source": [
    "# modify_street('mod \"Weber Street\" (2,1) (2,2)')\n",
    "# modify_street('mod \"Weber Street\" (2,1) (2,2)  ')\n",
    "# modify_street('mod \"Weber Street\" (2,1) (2,--2)')\n",
    "# modify_street('mod \"Weber Street12\" (2,1) (2,2)')\n"
   ]
  },
  {
   "cell_type": "code",
   "execution_count": 4152,
   "metadata": {},
   "outputs": [
    {
     "name": "stdout",
     "output_type": "stream",
     "text": [
      "{'weber street': [<__main__.Point object at 0x1086fe990>, <__main__.Point object at 0x108b62490>, <__main__.Point object at 0x108b3b690>, <__main__.Point object at 0x1086fc350>, <__main__.Point object at 0x1086fd910>]}\n"
     ]
    }
   ],
   "source": [
    "print(street_db)"
   ]
  },
  {
   "cell_type": "markdown",
   "metadata": {},
   "source": [
    "<1,3> ==> < line from (2,3) to point (4,4)> ==> <V[1] , V[3]>"
   ]
  },
  {
   "cell_type": "code",
   "execution_count": 4153,
   "metadata": {},
   "outputs": [],
   "source": [
    "class Point(object):\n",
    "    \"\"\"\n",
    "    A class for a point on the graph taken from Dr. Garfinkel's example py code\n",
    "    \"\"\"\n",
    "\n",
    "    def __init__(self, x, y):\n",
    "        self.x = float(x)\n",
    "        self.y = float(y)\n",
    "\n",
    "    def __str__(self):\n",
    "        return \"(\" + str(self.x) + \",\" + str(self.y) + \")\""
   ]
  },
  {
   "cell_type": "code",
   "execution_count": 4154,
   "metadata": {},
   "outputs": [],
   "source": [
    "class Line(object):\n",
    "    \"\"\"\n",
    "    A class for a line taken from Dr. Garfinkel's example py code\n",
    "    \"\"\"\n",
    "\n",
    "    def __init__(self, src, dst):\n",
    "        # Src = source point. and dst = destination point\n",
    "        self.src = src\n",
    "        self.dst = dst\n",
    "\n",
    "    def __str__(self):\n",
    "        return str(self.src) + \"-->\" + str(self.dst)\n",
    "\n",
    "\n",
    "def intersect(l1, l2):\n",
    "    # Needs to handle the case of no parrallel lines\n",
    "    # Case of no intersection\n",
    "    x1, y1 = l1.src.x, l1.src.y\n",
    "    x2, y2 = l1.dst.x, l1.dst.y\n",
    "    x3, y3 = l2.src.x, l2.src.y\n",
    "    x4, y4 = l2.dst.x, l2.dst.y\n",
    "\n",
    "    xden = (x1 - x2) * (y3 - y4) - (y1 - y2) * (x3 - x4)\n",
    "    yden = (x1 - x2) * (y3 - y4) - (y1 - y2) * (x3 - x4)\n",
    "    xnum = (x1 * y2 - y1 * x2) * (x3 - x4) - (x1 - x2) * (x3 * y4 - y3 * x4)\n",
    "    ynum = (x1 * y2 - y1 * x2) * (y3 - y4) - (y1 - y2) * (x3 * y4 - y3 * x4)\n",
    "    u_num = (x1 - x2) * (y1 - y3) - (y1 - y2) * (x1 - x3)\n",
    "    t_num = (x1 - x3) * (y3 - y4) - (y1 - y3) * (x3 - x4)\n",
    "\n",
    "\n",
    "    if(xden == 0 or yden == 0): \n",
    "        return None \n",
    "\n",
    "    t = t_num / xden\n",
    "    u = -(u_num / xden)\n",
    "\n",
    "    if t < 0 or t > 1 or u < 0 or u > 1:\n",
    "        return None\n",
    "    else: \n",
    "        xcoor = xnum / xden\n",
    "        ycoor = ynum / yden\n",
    "        return Point(xcoor, ycoor)"
   ]
  },
  {
   "cell_type": "code",
   "execution_count": 4155,
   "metadata": {},
   "outputs": [],
   "source": [
    "# p1 = Point (1, 4)\n",
    "# p2 = Point (5, 8)\n",
    "# p3 = Point (5, 6)\n",
    "# p4 = Point (3, 8)\n",
    "\n",
    "# l1 = Line (p1, p2)\n",
    "# l2 = Line (p3, p4)\n",
    "\n",
    "# p5 = Point(2, 8)\n",
    "# p6 = Point(10, 16)\n",
    "# l3 = Line(p5, p6)\n",
    "\n",
    "# print(intersect(l1, l2))\n",
    "# print(intersect(l1, l3))\n",
    "# p7 = Point(2, -1)\n",
    "# p8 = Point(2, 2)\n",
    "# l4 = Line(p7, p8)\n",
    "\n",
    "# print(intersect(l1, l4))"
   ]
  },
  {
   "cell_type": "code",
   "execution_count": 4156,
   "metadata": {},
   "outputs": [
    {
     "name": "stdout",
     "output_type": "stream",
     "text": [
      "fail weber street already exists in the database\n",
      "{'weber street': [<__main__.Point object at 0x1086fe990>, <__main__.Point object at 0x108b62490>, <__main__.Point object at 0x108b3b690>, <__main__.Point object at 0x1086fc350>, <__main__.Point object at 0x1086fd910>], 'king street s': [<__main__.Point object at 0x108a7c5d0>, <__main__.Point object at 0x108a7c3d0>]}\n",
      "{'weber street': [<__main__.Point object at 0x1086fe990>, <__main__.Point object at 0x108b62490>, <__main__.Point object at 0x108b3b690>, <__main__.Point object at 0x1086fc350>, <__main__.Point object at 0x1086fd910>], 'king street s': [<__main__.Point object at 0x108a7c5d0>, <__main__.Point object at 0x108a7c3d0>], 'davenport road': [<__main__.Point object at 0x108a7c710>, <__main__.Point object at 0x108a7e2d0>]}\n",
      "{'weber street': [<__main__.Point object at 0x1086fe990>, <__main__.Point object at 0x108b62490>, <__main__.Point object at 0x108b3b690>, <__main__.Point object at 0x1086fc350>, <__main__.Point object at 0x1086fd910>], 'king street s': [<__main__.Point object at 0x108a7c5d0>, <__main__.Point object at 0x108a7c3d0>], 'davenport road': [<__main__.Point object at 0x108a7c710>, <__main__.Point object at 0x108a7e2d0>]}\n"
     ]
    }
   ],
   "source": [
    "add_street('add \"Weber Street\" (2,-1) (2,2) (5,5) (5,6) (3,8)')\n",
    "add_street('add \"King Street S\" (4,2) (4,8)')\n",
    "add_street('add \"Davenport Road\" (1,4) (5,8)')\n",
    "print(street_db)"
   ]
  },
  {
   "cell_type": "code",
   "execution_count": 4157,
   "metadata": {},
   "outputs": [],
   "source": [
    "def _make_line_list(street_db):\n",
    "  '''\n",
    "  Takes in a street_db = {'string': [Point(objects)]}\n",
    "\n",
    "  returns list_db = {'street_name': [(Line(objects))]}\n",
    "  '''\n",
    "  \n",
    "  for street in street_db:\n",
    "    temp = [] \n",
    "    for i in range(len(street_db[street]) -1 ):             \n",
    "      src_point = street_db[street][i]\n",
    "      dst_point = street_db[street][i + 1]\n",
    "      line = Line(src_point, dst_point)\n",
    "      temp.append(line)\n",
    "\n",
    "    line_db[street] = temp   \n",
    "  return line_db "
   ]
  },
  {
   "cell_type": "code",
   "execution_count": 4158,
   "metadata": {},
   "outputs": [
    {
     "name": "stdout",
     "output_type": "stream",
     "text": [
      "{'weber street': [<__main__.Line object at 0x1088605d0>, <__main__.Line object at 0x108860990>, <__main__.Line object at 0x108860f10>, <__main__.Line object at 0x108861e10>], 'king street s': [<__main__.Line object at 0x108863b10>], 'davenport road': [<__main__.Line object at 0x108862dd0>]}\n"
     ]
    }
   ],
   "source": [
    "_make_line_list(street_db)\n",
    "print(line_db)"
   ]
  },
  {
   "cell_type": "code",
   "execution_count": 4159,
   "metadata": {},
   "outputs": [],
   "source": [
    "def _find_intersection(line_db):\n",
    "  '''\n",
    "  Takes in a line_db = {'string': [Point(object)]}\n",
    "\n",
    "  returns intersection set = [(x1, x2)]\n",
    "  '''\n",
    "  \n",
    "  street_list = list(line_db.keys())\n",
    "\n",
    "  V = {}\n",
    "  E = {}\n",
    "\n",
    "  counter = 1\n",
    "  for i in range((len(street_list)) - 1):\n",
    "    for line1 in line_db[street_list[i]]:\n",
    "      for line2 in line_db[street_list[i+1]]:\n",
    "        point = intersect(line1, line2)\n",
    "        if point == None:\n",
    "          pass\n",
    "        else:\n",
    "          point1 = line1.src.x , line1.src.y\n",
    "          point2 = line1.dst.x, line1.dst.y\n",
    "          point3 = line2.src.x, line2.src.y\n",
    "          point4 = line2.dst.x, line2.dst.y\n",
    "          [x,y] = point.x , point.y\n",
    "          \n",
    "          temp_list = [list(point1), list(point2), list(point3), list(point4)]\n",
    "  \n",
    "          for point in temp_list: \n",
    "            if point not in V.values():\n",
    "               V[counter] = point\n",
    "               counter+=1\n",
    "\n",
    "          if([x,y] not in V.values()):\n",
    "            V[counter] = [x,y]\n",
    "            counter+=1\n",
    "\n",
    "  return V "
   ]
  },
  {
   "cell_type": "code",
   "execution_count": 4160,
   "metadata": {},
   "outputs": [
    {
     "name": "stdout",
     "output_type": "stream",
     "text": [
      "{1: [2.0, 2.0], 2: [5.0, 5.0], 3: [4.0, 2.0], 4: [4.0, 8.0], 5: [4.0, 4.0], 6: [5.0, 6.0], 7: [3.0, 8.0], 8: [4.0, 7.0], 9: [1.0, 4.0], 10: [5.0, 8.0]}\n"
     ]
    }
   ],
   "source": [
    "print(_find_intersection(line_db))\n",
    "# print(vertex)"
   ]
  },
  {
   "cell_type": "code",
   "execution_count": 4161,
   "metadata": {},
   "outputs": [],
   "source": [
    "def _make_intersection_list(intersect_tuple, line1, line2):\n",
    "  '''\n",
    "  Takes an intersection tuple and and adds all the corresponding lines\n",
    "\n",
    "  It is in the form of '(ix, iy)' : [[l1_src, l1_dst] , [l2_src, l2_dst] ...]\n",
    "  '''\n",
    "  #Deconstruct the lines\n",
    "  line1_deconstructed = [tuple([line1.src.x, line1.src.y]), tuple([line1.dst.x, line1.dst.y])] \n",
    "  line2_deconstructed = [tuple([line2.src.x, line2.src.y]), tuple([line2.dst.x, line2.dst.y])]\n",
    "\n",
    "  if intersect_tuple not in list_of_intersections.keys():\n",
    "    list_of_intersections[intersect_tuple] = [line1_deconstructed, line2_deconstructed]\n",
    "  if intersect_tuple in list_of_intersections.keys():\n",
    "    #check if line1 or line2 currently exist in the tuple\n",
    "    if line1 not in list_of_intersections[intersect_tuple]:\n",
    "      list_of_intersections[intersect_tuple].append(line1_deconstructed)\n",
    "    if line2 not in list_of_intersections[intersect_tuple]:\n",
    "      list_of_intersections[intersect_tuple].append(line2_deconstructed)"
   ]
  },
  {
   "cell_type": "code",
   "execution_count": 4162,
   "metadata": {},
   "outputs": [],
   "source": [
    "#To first get the edges, take a list of vertices and check if the point and the intersection lie on the same line\n",
    "  #if this is true, then print then add to list of edges\n",
    "\n",
    "def _make_graph(line_db):\n",
    "  '''\n",
    "  Takes in a line_db = {'string': [Point(object)]}\n",
    "  \n",
    "  returns a dictionary of list of Vertexes = [(px, py), ...]\n",
    "  returns a list of edges Edge = [(vertex1, vertex2) ...]\n",
    "\n",
    "  # '''\n",
    "  # street_list = list(line_db.keys())\n",
    "  # #Counter for the dictionary values\n",
    "  # counter = 1\n",
    "  # #Iterate through the streets\n",
    "  # for i in range((len(street_list)) - 1):\n",
    "  #   #Line1 \n",
    "  #   for line1 in line_db[street_list[i]]:\n",
    "  #     #Line2\n",
    "  #     for line2 in line_db[street_list[i+1]]:\n",
    "  #       #Check Intersection\n",
    "  #       point = intersect(line1, line2)\n",
    "  #       #If no intersection ie not vertex or edge , pass\n",
    "  #       if point == None:\n",
    "  #         pass\n",
    "  #       #Else, there are 5 possible vertexes (x,y for points + intersection) and 4 possible edges\n",
    "  #       else:\n",
    "  #         #Check if intersection already exists, if not append to list\n",
    "  #         [x,y] = point.x , point.y\n",
    "  #         list_intersect = list([x,y])\n",
    "  #         intersect_tuple = tuple(list_intersect)\n",
    "\n",
    "  #         _make_intersection_list(intersect_tuple, line1, line2)\n",
    "  \n",
    "  #         point1 = line1.src.x, line1.src.y\n",
    "  #         point2 = line1.dst.x, line1.dst.y\n",
    "  #         point3 = line2.src.x, line2.src.y\n",
    "  #         point4 = line2.dst.x, line2.dst.y\n",
    "          \n",
    "  #         #Create a list of all the vertexes\n",
    "  #         temp_list = [list(point1), list(point2), list(point3), list(point4), list_intersect]\n",
    "          \n",
    "  #         #Check if any of the vertexes currently exist, if they do not add to the dictionary and increment\n",
    "  #         for point in temp_list: \n",
    "  #           if point not in V.values():\n",
    "  #             V[counter] = point\n",
    "  #             counter += 1\n",
    "\n",
    "  #         vertex_list = list(V.values())\n",
    "  #         #To get the edges \n",
    "  #         for vertex in temp_list:\n",
    "  #           # Find the intesection \n",
    "  #           intersection = list_intersect\n",
    "  #           if vertex == intersection:\n",
    "  #             pass\n",
    "  #           else:\n",
    "  #             ## Print both variations of edges\n",
    "  #             edge1 = [vertex_list.index(intersection) + 1, vertex_list.index(vertex) + 1]\n",
    "  #             edge2 = [vertex_list.index(vertex) + 1, vertex_list.index(intersection) + 1]\n",
    "\n",
    "  #             if edge1 in E or edge2 in E:\n",
    "  #               pass\n",
    "  #             else:\n",
    "  #               #Check if the edge exists as part of a line system\n",
    "  #               #ie is an edge between to intersection along the same line\n",
    "  #               E.append(edge1)\n",
    "  #           #Check if this edge exists in the list\n",
    "            \n",
    "            \n",
    "          \n",
    "  # return V, E\n",
    "  "
   ]
  },
  {
   "cell_type": "code",
   "execution_count": 4163,
   "metadata": {},
   "outputs": [
    {
     "name": "stdout",
     "output_type": "stream",
     "text": [
      "None\n",
      "{'weber street': [<__main__.Line object at 0x1088605d0>, <__main__.Line object at 0x108860990>, <__main__.Line object at 0x108860f10>, <__main__.Line object at 0x108861e10>], 'king street s': [<__main__.Line object at 0x108863b10>], 'davenport road': [<__main__.Line object at 0x108862dd0>]}\n",
      "{'weber street': [<__main__.Point object at 0x1086fe990>, <__main__.Point object at 0x108b62490>, <__main__.Point object at 0x108b3b690>, <__main__.Point object at 0x1086fc350>, <__main__.Point object at 0x1086fd910>], 'king street s': [<__main__.Point object at 0x108a7c5d0>, <__main__.Point object at 0x108a7c3d0>], 'davenport road': [<__main__.Point object at 0x108a7c710>, <__main__.Point object at 0x108a7e2d0>]}\n"
     ]
    }
   ],
   "source": [
    "print(_make_graph(line_db))\n",
    "print(line_db)\n",
    "print(street_db)\n"
   ]
  },
  {
   "cell_type": "code",
   "execution_count": 4164,
   "metadata": {},
   "outputs": [],
   "source": [
    "# print(E)\n",
    "# print(list_of_intersections)\n",
    "# print(list_of_intersections[(4.0, 4.0)][1] == list_of_intersections[(4.0, 7.0)][0])"
   ]
  },
  {
   "cell_type": "code",
   "execution_count": 4165,
   "metadata": {},
   "outputs": [
    {
     "name": "stdout",
     "output_type": "stream",
     "text": [
      "Edges:\n",
      "(3, 8)\n",
      "(1, 5)\n",
      "(6, 8)\n",
      "(8, 10)\n",
      "(4, 5)\n",
      "(8, 9)\n",
      "(7, 8)\n",
      "(4, 8)\n",
      "(2, 5)\n",
      "(3, 5)\n"
     ]
    }
   ],
   "source": [
    "def generate_edges(intersection_dict, vertex_mapping):\n",
    "    edges = set()\n",
    "\n",
    "    # Condition (1): Add edges between two intersections\n",
    "    # for intersection, _ in intersection_dict.items():\n",
    "    #     for other_intersection, _ in intersection_dict.items():\n",
    "    #         if intersection != other_intersection:\n",
    "    #             edge = (vertex_mapping[intersection], vertex_mapping[other_intersection])\n",
    "    #             # Ensure only one version of the edge is added\n",
    "    #             edges.add(tuple(sorted(edge)))\n",
    "\n",
    "    # Condition (2): Add edges between intersection and end-point of a line segment on the same street\n",
    "    for intersection, vertex_pairs_list in intersection_dict.items():\n",
    "        for vertex_pairs in vertex_pairs_list:\n",
    "            for i in range(len(vertex_pairs)):\n",
    "                end_point = tuple(vertex_pairs[i])\n",
    "                # Check if the end-point is not an intersection\n",
    "                if end_point not in intersection_dict:\n",
    "                    edge = (vertex_mapping[intersection], vertex_mapping[end_point])\n",
    "                    # Ensure only one version of the edge is added\n",
    "                    edges.add(tuple(sorted(edge)))\n",
    "\n",
    "    # # Condition (3): Add edges between two end-points on the same street only if an intersection does not lie on it\n",
    "    # for intersection, vertex_pairs_list in intersection_dict.items():\n",
    "    #     for vertex_pairs in vertex_pairs_list:\n",
    "    #         for i in range(len(vertex_pairs) - 1):\n",
    "    #             end_point_1 = tuple(vertex_pairs[i])\n",
    "    #             end_point_2 = tuple(vertex_pairs[i + 1])\n",
    "    #             # Check if the end-points are not intersections\n",
    "    #             if end_point_1 not in intersection_dict and end_point_2 not in intersection_dict:\n",
    "    #                 edge = (vertex_mapping[end_point_1], vertex_mapping[end_point_2])\n",
    "    #                 # Ensure only one version of the edge is added\n",
    "    #                 edges.add(tuple(sorted(edge)))\n",
    "\n",
    "    return edges\n",
    "\n",
    "# Example usage:\n",
    "intersection_dict = {\n",
    "    (4.0, 4.0): [[[2.0, 2.0], [5.0, 5.0]], [[4.0, 2.0], [4.0, 8.0]], [[2.0, 2.0], [5.0, 5.0]], [[4.0, 2.0], [4.0, 8.0]]],\n",
    "    (4.0, 7.0): [[[5.0, 6.0], [3.0, 8.0]], [[4.0, 2.0], [4.0, 8.0]], [[5.0, 6.0], [3.0, 8.0]], [[4.0, 2.0], [4.0, 8.0]], [[4.0, 2.0], [4.0, 8.0]], [[1.0, 4.0], [5.0, 8.0]]]\n",
    "}\n",
    "\n",
    "vertex_mapping = {\n",
    "    (2.0, 2.0): 1, (5.0, 5.0): 2, (4.0, 2.0): 3, (4.0, 8.0): 4, (4.0, 4.0): 5,\n",
    "    (5.0, 6.0): 6, (3.0, 8.0): 7, (4.0, 7.0): 8, (1.0, 4.0): 9, (5.0, 8.0): 10\n",
    "}\n",
    "\n",
    "result_edges = generate_edges(intersection_dict, vertex_mapping)\n",
    "\n",
    "print(\"Edges:\")\n",
    "for edge in result_edges:\n",
    "    print(edge)\n",
    "\n"
   ]
  },
  {
   "cell_type": "code",
   "execution_count": 4166,
   "metadata": {},
   "outputs": [],
   "source": [
    "#To first get the edges, take a list of vertices and check if the point and the intersection lie on the same line\n",
    "  #if this is true, then print then add to list of edges\n",
    "def _make_graph():\n",
    "  '''\n",
    "  Takes in a line_db = {'string': [Point(object)]}\n",
    "  \n",
    "  returns a dictionary of list of Vertexes = [(px, py), ...]\n",
    "  returns a list of edges Edge = [(vertex1, vertex2) ...]\n",
    "\n",
    "  '''\n",
    "  #Line graph is a dictionary of the lines in the form (vertex1, vertex2) as the src and destination points : [src, interections, dst]\n",
    "  V = {}\n",
    "  E = []\n",
    "  line_list = []\n",
    "  line_vertex_dict = {}\n",
    "  \n",
    "  line_db = _make_line_list(street_db)\n",
    "  \n",
    "  street_list = list(line_db.keys())\n",
    "  #Counter for the dictionary values\n",
    "  counter = 1\n",
    "  #Iterate through the streets\n",
    "  for i in range((len(street_list)) - 1):\n",
    "    #Line1 \n",
    "    for line1 in line_db[street_list[i]]:\n",
    "      #Line2\n",
    "      for line2 in line_db[street_list[i+1]]:\n",
    "        #Check Intersectionß\n",
    "        point = intersect(line1, line2)\n",
    "        #If no intersection ie not vertex or edge , pass\n",
    "        if point == None:\n",
    "          pass\n",
    "        #Else, there are 5 possible vertexes (x,y for points + intersection) and 4 possible edges\n",
    "        else:\n",
    "          #Push the lines into the list\n",
    "          if line1 not in line_list:\n",
    "            line_list.append(line1)\n",
    "          \n",
    "          if line2 not in line_list:\n",
    "            line_list.append(line2)\n",
    "          #Check if intersection already exists, if not append to list\n",
    "          [x,y] = point.x , point.y\n",
    "          # list_intersect = list([x,y])\n",
    "          intersect_tuple = tuple([x,y])\n",
    "\n",
    "          _make_intersection_list(intersect_tuple, line1, line2)\n",
    "  \n",
    "          #The points to be used in the vertex creation\n",
    "          point1 = tuple([line1.src.x, line1.src.y])\n",
    "          point2 = tuple([line1.dst.x, line1.dst.y])\n",
    "          point3 = tuple([line2.src.x, line2.src.y])\n",
    "          point4 = tuple([line2.dst.x, line2.dst.y])\n",
    "          \n",
    "          #Create a list of all the vertexes\n",
    "          temp_list = [point1, point2, point3, point4, intersect_tuple]\n",
    "          # print(temp_list)\n",
    "          \n",
    "          #Check if any of the vertexes currently exist, if they do not add to the dictionary and increment\n",
    "          for point in temp_list: \n",
    "            if point not in V:\n",
    "              V[point] = counter\n",
    "              counter += 1\n",
    "          \n",
    "        for line in line_list:\n",
    "            key1 = (V[point1], V[point2])\n",
    "            key2 = (V[point3], V[point4])\n",
    "\n",
    "            if key1 not in line_vertex_dict:\n",
    "                line_vertex_dict[key1] = [point1, point2, intersect_tuple]\n",
    "            elif key2 not in line_vertex_dict:\n",
    "                line_vertex_dict[key2] = [point3, point4, intersect_tuple]\n",
    "            elif key1 in line_vertex_dict:\n",
    "                if intersect_tuple not in line_vertex_dict[key1]:\n",
    "                    line_vertex_dict[key1].append(intersect_tuple)\n",
    "            elif key2 in line_vertex_dict:\n",
    "                if intersect_tuple not in line_vertex_dict[key2]:\n",
    "                    line_vertex_dict[key2].append(intersect_tuple)\n",
    "\n",
    "  # Sort the list of tuples within each value based on the x-coordinate\n",
    "  sorted_line_vertex_dict = {key: sorted(value, key=lambda point: point[0]) for key, value in line_vertex_dict.items()}\n",
    "  # Now make the edges\n",
    "  # If the x coordinate is the same use the y coordinate to sort (in the case of vertical lines)\n",
    "  for line in sorted_line_vertex_dict:\n",
    "    sorted_vertices = sorted(sorted_line_vertex_dict[line], key=lambda vertex: (vertex[0], vertex[1]))\n",
    "\n",
    "    for i in range(len(sorted_vertices) - 1):\n",
    "        edge = (V[sorted_vertices[i]], V[sorted_vertices[i + 1]])\n",
    "        E.append(edge)\n",
    "\n",
    "        \n",
    "     \n",
    "# Display the sorted dictionary\n",
    "  print(sorted_line_vertex_dict)\n",
    "  return V, E\n",
    "  "
   ]
  },
  {
   "cell_type": "code",
   "execution_count": 4167,
   "metadata": {},
   "outputs": [
    {
     "name": "stdout",
     "output_type": "stream",
     "text": [
      "{(1, 2): [(2.0, 2.0), (4.0, 4.0), (5.0, 5.0)], (3, 4): [(4.0, 2.0), (4.0, 8.0), (4.0, 4.0), (4.0, 7.0)], (6, 7): [(3.0, 8.0), (4.0, 7.0), (5.0, 6.0)], (9, 10): [(1.0, 4.0), (4.0, 7.0), (5.0, 8.0)]}\n",
      "({(2.0, 2.0): 1, (5.0, 5.0): 2, (4.0, 2.0): 3, (4.0, 8.0): 4, (4.0, 4.0): 5, (5.0, 6.0): 6, (3.0, 8.0): 7, (4.0, 7.0): 8, (1.0, 4.0): 9, (5.0, 8.0): 10}, [(1, 5), (5, 2), (3, 5), (5, 8), (8, 4), (7, 8), (8, 6), (9, 8), (8, 10)])\n"
     ]
    }
   ],
   "source": [
    "print(_make_graph())\n",
    "# print(line_vertex_dict)\n",
    "# print(line_list)\n",
    "# print(line_vertex_dict)\n",
    "# print(V)\n",
    "# print(line_db)\n",
    "# print(intersection_dict)\n",
    "# print(list_of_intersections)\n",
    "# print(V)\n",
    "# print(line_db)\n",
    "# Sort the list of tuples within each value based on the x-coordinate\n",
    "# sorted_line_vertex_dict = {key: sorted(value, key=lambda point: point[0]) for key, value in line_vertex_dict.items()}\n",
    "\n",
    "# Display the sorted dictionary\n"
   ]
  },
  {
   "cell_type": "code",
   "execution_count": 4168,
   "metadata": {},
   "outputs": [
    {
     "name": "stdout",
     "output_type": "stream",
     "text": [
      "{'weber street': [<__main__.Point object at 0x108b5f410>, <__main__.Point object at 0x1087012d0>], 'king street s': [<__main__.Point object at 0x108a7c5d0>, <__main__.Point object at 0x108a7c3d0>], 'davenport road': [<__main__.Point object at 0x108a7c710>, <__main__.Point object at 0x108a7e2d0>]}\n",
      "{'weber street': [<__main__.Line object at 0x1086fe550>], 'king street s': [<__main__.Line object at 0x10875d1d0>], 'davenport road': [<__main__.Line object at 0x10866d190>]}\n",
      "{(1, 2): [(4.0, 2.0), (4.0, 8.0), (4.0, 7.0)], (3, 4): [(1.0, 4.0), (4.0, 7.0), (5.0, 8.0)]}\n",
      "({(4.0, 2.0): 1, (4.0, 8.0): 2, (1.0, 4.0): 3, (5.0, 8.0): 4, (4.0, 7.0): 5}, [(1, 5), (5, 2), (3, 5), (5, 4)])\n"
     ]
    }
   ],
   "source": [
    "modify_street('mod \"Weber Street\" (2,1) (2,2)')\n",
    "print(street_db)\n",
    "temp_line_list = _make_line_list(street_db)\n",
    "print(temp_line_list)\n",
    "print(_make_graph())\n"
   ]
  },
  {
   "cell_type": "code",
   "execution_count": 4169,
   "metadata": {},
   "outputs": [
    {
     "name": "stdout",
     "output_type": "stream",
     "text": [
      "(-2.8813108945969885,25.214496604664895)\n"
     ]
    }
   ],
   "source": [
    "P1 = Point(-57, 87)\n",
    "P2 = Point(63, -50)\n",
    "P3 =  Point(-4, 30)\n",
    "P4 = Point(14, -47)\n",
    "line1 = Line(P1, P2)\n",
    "line2 = Line(P3, P4)\n",
    "print(intersect(line1, line2))"
   ]
  }
 ],
 "metadata": {
  "kernelspec": {
   "display_name": "Python 3",
   "language": "python",
   "name": "python3"
  },
  "language_info": {
   "codemirror_mode": {
    "name": "ipython",
    "version": 3
   },
   "file_extension": ".py",
   "mimetype": "text/x-python",
   "name": "python",
   "nbconvert_exporter": "python",
   "pygments_lexer": "ipython3",
   "version": "3.11.7"
  }
 },
 "nbformat": 4,
 "nbformat_minor": 2
}
